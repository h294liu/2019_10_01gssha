{
 "cells": [
  {
   "cell_type": "code",
   "execution_count": 1,
   "metadata": {},
   "outputs": [
    {
     "name": "stdout",
     "output_type": "stream",
     "text": [
      "read\n",
      "2018-01-01 01:00:00 2018-04-08 03:00:00\n",
      "plot\n"
     ]
    },
    {
     "name": "stderr",
     "output_type": "stream",
     "text": [
      "/glade/u/home/hongli/tools/miniconda/ENTER/lib/python3.7/site-packages/pandas/plotting/_matplotlib/converter.py:103: FutureWarning: Using an implicitly registered datetime converter for a matplotlib plotting method. The converter was registered by pandas on import. Future versions of pandas will require you to explicitly register matplotlib converters.\n",
      "\n",
      "To register the converters:\n",
      "\t>>> from pandas.plotting import register_matplotlib_converters\n",
      "\t>>> register_matplotlib_converters()\n",
      "  warnings.warn(msg, FutureWarning)\n"
     ]
    },
    {
     "name": "stdout",
     "output_type": "stream",
     "text": [
      "(a) Hopland (USGS)\n",
      "(b) Talmage (USGS) (11462080)\n",
      "(c) Ukiah (USGS)\n",
      "(d) Calpella (USGS)\n",
      "(e) DRW - Perry Creek - Deerwood\n",
      "(f) CLD - Cold Creek\n",
      "(g) MEW - Delbar Ranch\n",
      "(h) WHT - White Creek\n",
      "(i) BYS - Boyes Creek\n",
      "(j) MLL - Mill Creek\n",
      "(k) Coyote Outflow\n",
      "(l) Potter West\n",
      "(m) Potter Powerhouse\n",
      "(n) Potter East\n",
      "save\n",
      "Done\n"
     ]
    }
   ],
   "source": [
    "# compare simulated and observed flow\n",
    "import os\n",
    "from datetime import datetime, timedelta\n",
    "import numpy as np\n",
    "import pandas as pd\n",
    "import matplotlib.pyplot as plt \n",
    "import matplotlib as mpl\n",
    "from matplotlib.dates import (YEARLY, DateFormatter,\n",
    "                              rrulewrapper, RRuleLocator, drange)\n",
    "from PIL import Image\n",
    "\n",
    "def datetime_range(start, end, delta):\n",
    "    current = start\n",
    "    while current < end:\n",
    "        yield current\n",
    "        current += delta\n",
    "        \n",
    "#================================ Plot =======================================\n",
    "def plot_hyd(t_plot, obs, sim1, sim2, title_str, obs_fmt, sim_fmt, plot_file):\n",
    "    \n",
    "    row_num=1\n",
    "    col_num=1        \n",
    "    fig, ax = plt.subplots(row_num,col_num)\n",
    "    fig.set_figwidth(6.5*col_num) #190mm\n",
    "    fig.set_figheight(6.5*0.4*row_num) #5.61 heigh/width=3/4\n",
    "\n",
    "    dpi_value=200\n",
    "    formatter = DateFormatter('%m/%d/%y')\n",
    "    # formatter = DateFormatter('%b-%y')\n",
    "\n",
    "    ax.plot_date(t_plot, obs, obs_fmt, linewidth=0.75, markersize=0.0, alpha=0.8, label='Observation')   \n",
    "    ax.plot_date(t_plot, sim1, sim_fmt, linewidth=0.75, markersize=0.0, alpha=0.8, label='Simulation_GW')\n",
    "    ax.plot_date(t_plot, sim2, 'b-', linewidth=0.75, markersize=0.0, alpha=0.8, label='Simulation_noGW')\n",
    "\n",
    "    #axis, label, title, legend\n",
    "    ax.set_title(title_str, fontsize='small', fontweight='bold')\n",
    "    ax.set_xlabel('Date', fontsize='small')\n",
    "    ax.set_ylabel('Flow $(m^3/s)$', fontsize='small')\n",
    "    ax.xaxis.set_major_formatter(formatter)\n",
    "    ax.xaxis.set_tick_params(labelsize='small')#rotation=30,\n",
    "    ax.legend(loc='best', fontsize='x-small', framealpha=0.5) #loc='upper right', \n",
    "\n",
    "    plt.rc('xtick',labelsize='small')\n",
    "    plt.rc('ytick',labelsize='small')                \n",
    "    fig.tight_layout()\n",
    "    fig.savefig(plot_file, dpi=dpi_value)\n",
    "    plt.close(fig)      \n",
    "    del fig\n",
    "    \n",
    "    return os.path.join(plot_file)\n",
    "\n",
    "#===============================================================================\n",
    "\n",
    "# Main script\n",
    "root_dir = '/glade/u/home/hongli/work/russian/model'\n",
    "model = 'mendocino_270m_GW'\n",
    "sim_prj_file = os.path.join(root_dir, model,'run/mendocino_270m.prj')\n",
    "sim_lc_file = os.path.join(root_dir, model,'input/mendocino_270m.ihl_Labels')\n",
    "sim_file = os.path.join(root_dir, model,'output/mendocino_270m.ohl')\n",
    "sim_file_noGW = os.path.join(root_dir, 'mendocino_270m_noGW','output/mendocino_270m.ohl')\n",
    "obs_dir = os.path.join(root_dir,'analysis/Mendocino_Observed_StreamFlow_Data/2018_2019_measured_hydrographs')\n",
    "\n",
    "script_dir = 'analysis/'\n",
    "output_folder='step5_plot_hydro_2018_WRF_compare'\n",
    "output_file = 'OUT_HYD_LOCATION_GW.png'\n",
    "os.chdir(os.path.join(root_dir, script_dir))\n",
    "if not os.path.exists(output_folder):\n",
    "    os.mkdir(output_folder)\n",
    "os.chdir(root_dir)\n",
    "\n",
    "# read hydro location and hydro\n",
    "print('read')\n",
    "# lc_names = np.loadtxt(os.path.join(root_dir, sim_lc_file), skiprows=1, usecols=[2], dtype='str')\n",
    "lc_names = ['Hopland (USGS)', 'Talmage (USGS) (11462080)', 'Ukiah (USGS)', 'Calpella (USGS)', \n",
    "            'DRW - Perry Creek - Deerwood', 'CLD - Cold Creek','MEW - Delbar Ranch', \n",
    "            'WHT - White Creek', 'BYS - Boyes Creek', 'MLL - Mill Creek', \n",
    "            'Coyote Outflow', 'Potter West', 'Potter Powerhouse', 'Potter East']    \n",
    "sim_data = np.loadtxt(os.path.join(root_dir, sim_file), usecols=range(1,len(lc_names)+1))\n",
    "sim_data_noGW = np.loadtxt(os.path.join(root_dir, sim_file_noGW), usecols=range(1,len(lc_names)+1))\n",
    "\n",
    "# read hydro time period\n",
    "with open(sim_prj_file, 'r') as f:\n",
    "    for line in f:\n",
    "        line = line.strip()\n",
    "        if line and line.startswith('START_DATE'):\n",
    "            start_date_splits = line.split()[1:]\n",
    "        elif line and line.startswith('START_TIME'):\n",
    "            start_time_splits = line.split()[1:]\n",
    "        elif line and line.startswith('END_TIME'): \n",
    "            end_dt_splits = line.split()[1:]\n",
    "start_date_splits = [int(x) for x in start_date_splits]\n",
    "start_time_splits = [int(x) for x in start_time_splits]\n",
    "end_dt_splits = [int(x) for x in end_dt_splits]            \n",
    "\n",
    "start_datetime = datetime(start_date_splits[0], start_date_splits[1], start_date_splits[2], start_time_splits[0]+1, start_time_splits[1])\n",
    "# end_datetime = datetime(end_dt_splits[0],end_dt_splits[1],end_dt_splits[2],end_dt_splits[3],end_dt_splits[4])\n",
    "# dts_datetime = [dt for dt in datetime_range(start_datetime, end_datetime, timedelta(minutes=15))]\n",
    "\n",
    "dts_datetime = [start_datetime+timedelta(minutes=15*i) for i in range(np.shape(sim_data)[0])]\n",
    "end_datetime = dts_datetime[-1]\n",
    "print(start_datetime,end_datetime)\n",
    "\n",
    "dts_str = [dt.strftime('%Y-%m-%d %H:%M:%S') for dt in dts_datetime]\n",
    "t_plot = [mpl.dates.date2num(hr) for hr in dts_datetime]\n",
    "t_len = len(t_plot)\n",
    "\n",
    "# lc_names_index = range(len(lc_names))\n",
    "print('plot')\n",
    "lc_names_index = range(len(lc_names))\n",
    "fig_file_summary = []\n",
    "alpha = 'a'\n",
    "for i in range(len(lc_names_index)):\n",
    "# for i in range(1):\n",
    "    lc_name = lc_names[lc_names_index[i]]\n",
    "    obs_file = lc_name + '.xlsx'\n",
    "    \n",
    "    # read obs data\n",
    "    if os.path.exists(os.path.join(root_dir, obs_dir, obs_file)):\n",
    "        df = pd.read_excel(os.path.join(root_dir, obs_dir, obs_file), converters= {'date and time': pd.to_datetime}) #index_col=[0], \n",
    "        mask = (df['date and time'] >= dts_str[0]) & (df['date and time'] <= dts_str[-1]) #Use a boolean mask\n",
    "        obs_df = df.loc[mask, ['date and time','flow (cms)']]\n",
    "\n",
    "        # fill missing obs \n",
    "        dts_obs_str = [dt.strftime('%Y-%m-%d %H:%M:%S') for dt in obs_df['date and time']]\n",
    "    #     missing = [dts.index(dt) for dt in dts_str if not dt in dts_obs_str]\n",
    "        obs_fill = []\n",
    "        for j in range(len(dts_str)):\n",
    "            dt = dts_str[j]\n",
    "            if dt in dts_obs_str:\n",
    "                obs_index = dts_obs_str.index(dt)\n",
    "                obs_value = obs_df.iloc[obs_index]['flow (cms)']\n",
    "                if obs_value != -999.0:\n",
    "                    obs_fill.append(obs_value)\n",
    "            else:\n",
    "                obs_fill.append(np.nan)\n",
    "        del df, obs_df, dts_obs_str\n",
    "    else:\n",
    "        obs_fill = np.empty((len(dts_datetime),))\n",
    "        obs_fill[:] = np.nan\n",
    "    \n",
    "    # plot\n",
    "    sim = sim_data[0:t_len, lc_names_index[i]]\n",
    "    sim_noGW = sim_data_noGW[0:t_len, lc_names_index[i]] # note: simulated flow has different length in GW and noGW.\n",
    "    title_str = '('+chr(ord(alpha) + i) +') ' + lc_name\n",
    "    obs_fmt = 'k-'\n",
    "    sim_fmt = 'r--'\n",
    "    plot_file = os.path.join(root_dir, script_dir, output_folder, lc_name+'.png')\n",
    "\n",
    "    fig_file = plot_hyd(t_plot=t_plot, obs = obs_fill, sim1 = sim, sim2 = sim_noGW, \n",
    "                        title_str = title_str, obs_fmt = obs_fmt, \n",
    "                        sim_fmt = sim_fmt, plot_file = plot_file)\n",
    "    fig_file_summary.append(fig_file)  \n",
    "    print(title_str)\n",
    "#     del obs_fill, sim\n",
    "    \n",
    "# save as one figure for all\n",
    "print('save')\n",
    "os.chdir(os.path.join(root_dir, script_dir, output_folder))\n",
    "widths = []\n",
    "heights = []\n",
    "for fig_file in fig_file_summary:\n",
    "    im = Image.open(fig_file)\n",
    "    widths.append(im.width)\n",
    "    heights.append(im.height)\n",
    "\n",
    "max_width = max(widths)\n",
    "total_height = sum(heights)\n",
    "new_im = Image.new('RGB', (max_width, total_height))\n",
    "\n",
    "x_offset = 0\n",
    "for fig_file in fig_file_summary:\n",
    "    im = Image.open(fig_file)    \n",
    "    new_im.paste(im, (0,x_offset))\n",
    "    x_offset += im.size[1]\n",
    "new_im.save(os.path.join(root_dir, script_dir, output_folder, output_file))    \n",
    "os.chdir(root_dir)\n",
    "print('Done')"
   ]
  },
  {
   "cell_type": "code",
   "execution_count": 2,
   "metadata": {},
   "outputs": [
    {
     "data": {
      "text/plain": [
       "[0, 0]"
      ]
     },
     "execution_count": 2,
     "metadata": {},
     "output_type": "execute_result"
    }
   ],
   "source": [
    "start_time_splits"
   ]
  },
  {
   "cell_type": "code",
   "execution_count": 34,
   "metadata": {},
   "outputs": [
    {
     "data": {
      "text/plain": [
       "'/gpfs/fs1/work/hongli/russian/model'"
      ]
     },
     "execution_count": 34,
     "metadata": {},
     "output_type": "execute_result"
    }
   ],
   "source": [
    "os.getcwd()"
   ]
  },
  {
   "cell_type": "code",
   "execution_count": 33,
   "metadata": {},
   "outputs": [],
   "source": [
    "np.savetxt('sim.txt',sim_data[0:t_len,0],fmt='%f')\n",
    "np.savetxt('sim_noGW.txt',sim_data_noGW[0:t_len,0],fmt='%f')"
   ]
  },
  {
   "cell_type": "code",
   "execution_count": 31,
   "metadata": {},
   "outputs": [
    {
     "data": {
      "text/plain": [
       "(array([0.94871529, 0.94871881, 0.94869122, 0.94863398, 0.94854865,\n",
       "        0.94843678, 0.94829989, 0.94813954, 0.94795741, 0.94775533]),\n",
       " array([371.71105583, 371.94876741, 372.30185421, 372.76671468,\n",
       "        373.34395361, 374.01990658, 374.78502456, 375.47243909,\n",
       "        375.77996752, 375.6876838 ]))"
      ]
     },
     "execution_count": 31,
     "metadata": {},
     "output_type": "execute_result"
    }
   ],
   "source": [
    "sim[9230:9240],sim_noGW[9230:9240]"
   ]
  },
  {
   "cell_type": "code",
   "execution_count": 32,
   "metadata": {},
   "outputs": [
    {
     "data": {
      "text/plain": [
       "(9238, 7.47945477, 375.77996752)"
      ]
     },
     "execution_count": 32,
     "metadata": {},
     "output_type": "execute_result"
    }
   ],
   "source": [
    "np.argmax(sim_noGW),np.amax(sim),np.amax(sim_noGW)"
   ]
  },
  {
   "cell_type": "code",
   "execution_count": 30,
   "metadata": {},
   "outputs": [
    {
     "data": {
      "text/plain": [
       "((9321,), (9321,))"
      ]
     },
     "execution_count": 30,
     "metadata": {},
     "output_type": "execute_result"
    }
   ],
   "source": [
    "np.shape(sim),np.shape(sim_noGW)"
   ]
  },
  {
   "cell_type": "code",
   "execution_count": null,
   "metadata": {},
   "outputs": [],
   "source": []
  }
 ],
 "metadata": {
  "kernelspec": {
   "display_name": "Python [conda env:ENTER]",
   "language": "python",
   "name": "conda-env-ENTER-py"
  },
  "language_info": {
   "codemirror_mode": {
    "name": "ipython",
    "version": 3
   },
   "file_extension": ".py",
   "mimetype": "text/x-python",
   "name": "python",
   "nbconvert_exporter": "python",
   "pygments_lexer": "ipython3",
   "version": "3.7.0"
  }
 },
 "nbformat": 4,
 "nbformat_minor": 4
}
