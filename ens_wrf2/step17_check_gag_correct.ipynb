{
 "cells": [
  {
   "cell_type": "code",
   "execution_count": 1,
   "metadata": {},
   "outputs": [
    {
     "name": "stdout",
     "output_type": "stream",
     "text": [
      "Done\n"
     ]
    },
    {
     "data": {
      "image/png": "[encoded data removed]",
      "text/plain": [
       "<Figure size 432x288 with 1 Axes>"
      ]
     },
     "metadata": {
      "needs_background": "light"
     },
     "output_type": "display_data"
    }
   ],
   "source": [
    "# check correctness of gag file\n",
    "import numpy as np\n",
    "import os\n",
    "import pandas as pd\n",
    "import xarray as xr\n",
    "import datetime\n",
    "from pyproj import Proj\n",
    "\n",
    "def read_gag(gag_file):\n",
    "    time_int = []\n",
    "    data = []\n",
    "    with open(gag_file) as f:\n",
    "        for line in f:\n",
    "            line = line.rstrip()\n",
    "            if 'GAGES' in line:\n",
    "                line = line.split(' ')\n",
    "                time_int.append(line[1:1+5])\n",
    "                data.append(line[1+5:])   \n",
    "    time_int = (np.asarray(time_int)).astype(np.int)\n",
    "    time = [datetime.datetime(time_int[i,0],time_int[i,1],time_int[i,2],time_int[i,3]) for i in range(len(time_int))]\n",
    "    data = (np.asarray(data)).astype(np.float)        \n",
    "\n",
    "    df = pd.DataFrame(data)\n",
    "    df['datetime'] = time\n",
    "    df = df.set_index('datetime')        \n",
    "    return df\n",
    "\n",
    "root_dir = '/glade/u/home/hongli/scratch/2019_10_01gssha/ens_forc_wrf2/scripts'\n",
    "gag_tpl_file = os.path.join(root_dir,'PRECIP_wwrf_2017_2018_1day_lead__no_event_24hour.gag')\n",
    "gag_dir = os.path.join(root_dir,'step14_format_prcp_to_gag/026grids')\n",
    "\n",
    "# read template gag\n",
    "df_tpl = read_gag(gag_tpl_file)\n",
    "\n",
    "for m in range(2,3):\n",
    "    mb_str = str('%03d' % (m+1))\n",
    "    gag_mb_file = 'ens_forc.'+ mb_str+'.gag'\n",
    "    df_mb = read_gag(os.path.join(gag_dir,gag_mb_file))\n",
    "    \n",
    "    # plot\n",
    "    i = 10\n",
    "    j = 10\n",
    "#     j = (22-i//19-1)*19+i%19\n",
    "    df_tpl[i].plot(color='k',lw=1.0, alpha=1.0, label='sim_origin')\n",
    "    df_mb[j].plot(color='r',lw=1.0, alpha=1.0, label='sim_mb'+mb_str)\n",
    "    \n",
    "print('Done')"
   ]
  },
  {
   "cell_type": "code",
   "execution_count": 32,
   "metadata": {},
   "outputs": [
    {
     "data": {
      "text/plain": [
       "datetime\n",
       "2017-12-01 16:00:00    0.0\n",
       "2017-12-01 19:00:00    0.0\n",
       "2017-12-01 22:00:00    0.0\n",
       "2017-12-02 01:00:00    0.0\n",
       "2017-12-02 04:00:00    0.0\n",
       "                      ... \n",
       "2018-04-07 14:00:00    0.0\n",
       "2018-04-07 17:00:00    0.0\n",
       "2018-04-07 20:00:00    0.0\n",
       "2018-04-07 23:00:00    0.0\n",
       "2018-04-08 02:00:00    0.0\n",
       "Name: 0, Length: 506, dtype: float64"
      ]
     },
     "execution_count": 32,
     "metadata": {},
     "output_type": "execute_result"
    }
   ],
   "source": [
    "df[0]"
   ]
  },
  {
   "cell_type": "code",
   "execution_count": 26,
   "metadata": {},
   "outputs": [
    {
     "data": {
      "text/plain": [
       "(506, 418)"
      ]
     },
     "execution_count": 26,
     "metadata": {},
     "output_type": "execute_result"
    }
   ],
   "source": [
    "np.shape(data_tpl)"
   ]
  },
  {
   "cell_type": "code",
   "execution_count": null,
   "metadata": {},
   "outputs": [],
   "source": []
  }
 ],
 "metadata": {
  "kernelspec": {
   "display_name": "conda_hongli",
   "language": "python",
   "name": "conda_hongli"
  },
  "language_info": {
   "codemirror_mode": {
    "name": "ipython",
    "version": 3
   },
   "file_extension": ".py",
   "mimetype": "text/x-python",
   "name": "python",
   "nbconvert_exporter": "python",
   "pygments_lexer": "ipython3",
   "version": "3.8.3"
  }
 },
 "nbformat": 4,
 "nbformat_minor": 4
}
