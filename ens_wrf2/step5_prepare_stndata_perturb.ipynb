{
 "cells": [
  {
   "cell_type": "code",
   "execution_count": 1,
   "metadata": {},
   "outputs": [
    {
     "name": "stdout",
     "output_type": "stream",
     "text": [
      "read WRF data\n",
      "write\n",
      "stndata_046grids\n",
      "stndata_094grids\n",
      "stndata_252grids\n",
      "Done\n"
     ]
    }
   ],
   "source": [
    "import os,shutil\n",
    "import datetime\n",
    "import numpy as np\n",
    "import xarray as xr\n",
    "import pandas as pd\n",
    "import netCDF4 as nc\n",
    "\n",
    "root_dir='/glade/u/home/hongli/scratch/2019_10_01gssha/ens_forc_wrf2/scripts'\n",
    "    \n",
    "wrf_raw_file = os.path.join(root_dir,'step1_asc_to_nc/WestWRF_daily_20171202_20180407.nc')\n",
    "stnlist_dir = os.path.join(root_dir,'step4_sample_stnlist_perturb')\n",
    "stnlist_name_base = 'stnlist'\n",
    "outnc_tpl = os.path.join(root_dir,'stn_data_tpl.nc')\n",
    "outfolder = 'step5_prepare_stndata_perturb'\n",
    "if os.path.exists(os.path.join(root_dir, outfolder)):\n",
    "    shutil.rmtree(os.path.join(root_dir, outfolder))\n",
    "os.makedirs(os.path.join(root_dir, outfolder))\n",
    "\n",
    "time_format='%Y-%m-%d'\n",
    "extract_start_date = '2017-12-02'\n",
    "extract_end_date   = '2018-04-07'\n",
    "\n",
    "# ============================================================================================================\n",
    "# read historical WRF netcdf files\n",
    "print('read WRF data')\n",
    "f_wrf = xr.open_dataset(wrf_raw_file)\n",
    "prcp = f_wrf['prcp'].values[:] # (time, lat, lon). unit:mm/day\n",
    "tmin = f_wrf['tmin'].values[:] # (time, lat, lon). unit: degC\n",
    "tmax = f_wrf['tmax'].values[:] \n",
    "time = pd.to_datetime(f_wrf['time'].values[:]).strftime(time_format)\n",
    "f_wrf.close()\n",
    "\n",
    "# wrf mask on the time dimension\n",
    "time_obj = np.asarray([datetime.datetime.strptime(t, time_format) for t in time])\n",
    "start_date_obj = datetime.datetime.strptime(extract_start_date, time_format)\n",
    "end_date_obj = datetime.datetime.strptime(extract_end_date, time_format)\n",
    "wrf_mask  = (time_obj >= start_date_obj) & (time_obj <= end_date_obj) \n",
    "\n",
    "# ============================================================================================================\n",
    "print('write')\n",
    "stnlist_files = [f for f in os.listdir(stnlist_dir) if stnlist_name_base in f]\n",
    "stnlist_files = sorted(stnlist_files)\n",
    "with nc.Dataset(outnc_tpl) as src:\n",
    "    for stnlist_file in stnlist_files:\n",
    "        \n",
    "        # create sub-outfolder\n",
    "        sub_folder = 'stndata_'+(stnlist_file.split('.')[0].split('_')[1])\n",
    "#         sub_folder = 'stndata_'+(stnlist_file.split('_')[-1]).split('.')[0]\n",
    "        if os.path.exists(os.path.join(root_dir, outfolder, sub_folder)):\n",
    "            shutil.rmtree(os.path.join(root_dir, outfolder, sub_folder))        \n",
    "        os.makedirs(os.path.join(root_dir, outfolder, sub_folder)) \n",
    "        print(sub_folder)\n",
    "\n",
    "        # read selected wrf list \n",
    "        stn_ids = np.loadtxt(os.path.join(stnlist_dir,stnlist_file), skiprows=2, usecols=[0], delimiter=',', dtype='str') # STA_ID[0], LAT[1], LON[2] ELEV[3], SLP_N[4], SLP_E[5], STA_NAME[6]\n",
    "        stnlist = np.loadtxt(os.path.join(stnlist_dir,stnlist_file), skiprows=2, usecols=[1,2,3,4,5], delimiter=',') \n",
    "        stn_num = len(stn_ids)\n",
    "\n",
    "        # write point output one-by-one\n",
    "        include = ['GHCND_id', 'elevation', 'latitude', 'longitude', 'prcp', 'time', 'tmax', 'tmin']\n",
    "\n",
    "        for i in range(stn_num):\n",
    "            stn_id = stn_ids[i]    \n",
    "            stn_lat_id = int(stn_id[3:3+3]) #start from zero\n",
    "            stn_lon_id = int(stn_id[9:9+3]) #start from zero\n",
    "\n",
    "            with nc.Dataset(os.path.join(root_dir, outfolder, sub_folder, stn_id+'.nc'), \"w\") as dst:\n",
    "\n",
    "                # create global attributes\n",
    "                dst.description = 'Daily WRF derived from ERDC hourly ascii forcing.'\n",
    "                \n",
    "                # copy dimensions\n",
    "                for name, dimension in src.dimensions.items():\n",
    "                     dst.createDimension(\n",
    "                        name, (len(dimension) if not dimension.isunlimited() else None))\n",
    "\n",
    "                # copy variable attributes all at once via dictionary (for the included variables)\n",
    "                for name, variable in src.variables.items():\n",
    "                    if name in include:\n",
    "                        x = dst.createVariable(name, variable.datatype, variable.dimensions)               \n",
    "                        dst[name].setncatts(src[name].__dict__)\n",
    "\n",
    "                # assign values for variables ([:] is necessary)\n",
    "                dst.variables['GHCND_id'][:] = nc.stringtochar(np.array([stn_id], dtype='S'))\n",
    "                dst.variables['latitude'][:] = stnlist[i,0]\n",
    "                dst.variables['longitude'][:] = stnlist[i,1]\n",
    "                dst.variables['elevation'][:] = stnlist[i,2]\n",
    "\n",
    "                dst.variables['time'][:] = nc.date2num(time_obj[wrf_mask], dst.variables['time'].units)\n",
    "                dst.variables['tmax'][:] = tmax[wrf_mask,stn_lat_id, stn_lon_id]\n",
    "                dst.variables['tmin'][:] = tmin[wrf_mask,stn_lat_id, stn_lon_id]\n",
    "                dst.variables['prcp'][:] = prcp[wrf_mask,stn_lat_id, stn_lon_id]          \n",
    "print('Done')"
   ]
  },
  {
   "cell_type": "code",
   "execution_count": 7,
   "metadata": {},
   "outputs": [
    {
     "name": "stdout",
     "output_type": "stream",
     "text": [
      "0 10\n"
     ]
    }
   ],
   "source": [
    "for i in range(1):\n",
    "    stn_id = stn_ids[i]    \n",
    "    stn_lat_id = int(stn_id[3:3+3]) #start from zero\n",
    "    stn_lon_id = int(stn_id[9:9+3]) #start from zero\n",
    "    print(stn_lat_id,stn_lon_id)"
   ]
  },
  {
   "cell_type": "code",
   "execution_count": null,
   "metadata": {},
   "outputs": [],
   "source": []
  }
 ],
 "metadata": {
  "kernelspec": {
   "display_name": "conda_hongli",
   "language": "python",
   "name": "conda_hongli"
  },
  "language_info": {
   "codemirror_mode": {
    "name": "ipython",
    "version": 3
   },
   "file_extension": ".py",
   "mimetype": "text/x-python",
   "name": "python",
   "nbconvert_exporter": "python",
   "pygments_lexer": "ipython3",
   "version": "3.8.3"
  }
 },
 "nbformat": 4,
 "nbformat_minor": 4
}
