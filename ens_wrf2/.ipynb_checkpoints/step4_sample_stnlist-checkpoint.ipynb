{
 "cells": [
  {
   "cell_type": "code",
   "execution_count": 1,
   "metadata": {},
   "outputs": [
    {
     "name": "stdout",
     "output_type": "stream",
     "text": [
      "ny=22, nx=19\n",
      "save stnlist.txt\n",
      "index interval = 1, choice num = 393\n",
      "index interval = 2, choice num = 99\n",
      "index interval = 3, choice num = 46\n",
      "plot distribution\n",
      "46 Grids\n",
      "99 Grids\n",
      "393 Grids\n",
      "Done\n"
     ]
    }
   ],
   "source": [
    "#!/usr/bin/env python\n",
    "# coding: utf-8\n",
    "import os\n",
    "os.environ[\"PROJ_LIB\"] = '/glade/u/home/hongli/tools/miniconda3/envs/conda_hongli/share/proj'\n",
    "\n",
    "from mpl_toolkits.basemap import Basemap\n",
    "import matplotlib.pyplot as plt\n",
    "from pyproj import Proj\n",
    "import os, shutil\n",
    "import numpy as np\n",
    "import xarray as xr\n",
    "from itertools import chain\n",
    "\n",
    "def plot_basemap(llcrnrlon,llcrnrlat,urcrnrlon,urcrnrlat,ax,nx,ny,lat_0,lon_0):\n",
    "\n",
    "#     m = Basemap(llcrnrlon,llcrnrlat,urcrnrlon,urcrnrlat,resolution='l',projection='cyl', ax=ax)   \n",
    "    m = Basemap(llcrnrlon,llcrnrlat,urcrnrlon,urcrnrlat,resolution='l',projection='tmerc', ax=ax,lat_0=lat_0,lon_0=lon_0)\n",
    "\n",
    "    m.drawmapboundary(color='k', linewidth=1.)\n",
    "#     m.drawcoastlines()\n",
    "   \n",
    "    # lat and lon with lables\n",
    "    m.drawparallels(np.arange(np.floor(llcrnrlat),np.ceil(urcrnrlat),0.2),labels=[True,False,False,False],dashes=[1,1], fontsize='small') # Draw parallels (latitude lines) for values (in degrees).\n",
    "    m.drawmeridians(np.arange(np.floor(llcrnrlon),np.ceil(urcrnrlon),0.2),labels=[False,False,False,True],dashes=[1,1], fontsize='small') # Draw meridians (longitude lines). Label [left, right, top, bottom]\n",
    "\n",
    "    # draw a shaded-relief image\n",
    "    m.shadedrelief(scale=0.5)\n",
    "    \n",
    "    # lats and longs are returned as a dictionary\n",
    "    lats = m.drawparallels(np.reshape(np.linspace(llcrnrlat,urcrnrlat,ny+1),(ny+1,)),labels=[False,False,False,False],dashes=[0.5,0.5]) \n",
    "    lons = m.drawmeridians(np.reshape(np.linspace(llcrnrlon,urcrnrlon,nx+1),(nx+1,)),labels=[False,False,False,False],dashes=[0.5,0.5]) \n",
    "\n",
    "    lat_lines = chain(*(tup[1][0] for tup in lats.items()))\n",
    "    lon_lines = chain(*(tup[1][0] for tup in lons.items()))\n",
    "    all_lines = chain(lat_lines, lon_lines)\n",
    "    \n",
    "    # cycle through these lines and set the desired style\n",
    "    for line in all_lines:\n",
    "        line.set(linestyle='-', alpha=0.3, color='grey')\n",
    "\n",
    "    m.drawstates(linewidth=0.5, linestyle='solid', color='k')\n",
    "    return m\n",
    "\n",
    "# ===============================================================================\n",
    "# root_dir = '/glade/u/home/hongli/work/russian/ens_forc_wrf2'\n",
    "root_dir='/glade/u/home/hongli/scratch/2019_10_01gssha/ens_forc_wrf2/scripts'\n",
    "format_stnlist_file = os.path.join(root_dir,'step2_prepare_complete_stnlist/stnlist_slope.txt')\n",
    "\n",
    "asc_dir = '/glade/u/home/hongli/scratch/2019_10_01gssha/model/270m_Forward_Jan01_2018-Apr15_2018_WestWRF/input/hmet_ascii_data_1day_lead'\n",
    "asc_files = [f for f in os.listdir(asc_dir) if '.asc' in f]\n",
    "asc_files = sorted(asc_files)\n",
    "\n",
    "outfolder = 'step4_sample_stnlist'\n",
    "if os.path.exists(os.path.join(root_dir, outfolder)):\n",
    "    shutil.rmtree(os.path.join(root_dir, outfolder))\n",
    "os.makedirs(os.path.join(root_dir, outfolder))\n",
    "ofile_name_base = 'stnlist'\n",
    "dpi_value = 90\n",
    "\n",
    "# read the complete stnlist\n",
    "data_format = np.loadtxt(format_stnlist_file, skiprows=1, delimiter=',', dtype='str') #STA_ID[0], LAT[1], LON[2], ELEV[3], SLP_N[4], SLP_E[5], STA_NAME[6]\n",
    "stn_num = len(data_format)\n",
    "\n",
    "#data_detail = np.loadtxt(complete_stnlist_file_detail, skiprows=1, delimiter=', ', dtype='str') \n",
    "#STA_ID[0], LAT[1], LON[2], ELEV[3], SLP_N[4], SLP_E[5], STA_NAME[6], DEM_y_id[7], DEM_x_id[8], DEM_lat[9], DEM_lon[10], Global_y_id[11], Global_x_id[12]\n",
    "y_ids = np.asarray([int(data_format[i][0][3:6]) for i in range(stn_num)])\n",
    "x_ids = np.asarray([int(data_format[i][0][9:12]) for i in range(stn_num)])\n",
    "\n",
    "# unique y_id and x_id\n",
    "y_ids_unique = np.unique(y_ids)\n",
    "x_ids_unique = np.unique(x_ids)\n",
    "\n",
    "# y_id and x_id number\n",
    "ny = len(y_ids_unique)\n",
    "nx = len(x_ids_unique)\n",
    "print('ny='+str(ny)+', nx='+str(nx))\n",
    "\n",
    "# sampled grid interval\n",
    "# index_intervals=range(1,round(min(ny,nx)*0.2)+1)  \n",
    "# index_intervals=range(1,round(min(ny,nx)*0.3)+1)  \n",
    "index_intervals=[1,2,3]\n",
    "\n",
    "# ==========================================================================================\n",
    "# uniformly sample and save\n",
    "print('save stnlist.txt')\n",
    "f_in = open(format_stnlist_file, 'r') # read in the complete stnlist line-by-line\n",
    "content = f_in.readlines()\n",
    "\n",
    "choice_num_previous = 0\n",
    "for index_interval in index_intervals:    \n",
    "    \n",
    "    mask = np.logical_and(y_ids%index_interval==0, x_ids%index_interval==0)\n",
    "    choice_num = np.count_nonzero(mask)\n",
    "    \n",
    "    if choice_num!=choice_num_previous:\n",
    "        print('index interval = '+str(index_interval)+', choice num = '+str(choice_num))\n",
    "\n",
    "        ofile = ofile_name_base + '_'+str('%03d' %(choice_num))+'grids.txt'\n",
    "        f_out = open(os.path.join(root_dir, outfolder, ofile), 'w') \n",
    "        f_out.write('NSITES\\t'+str(choice_num)+'\\n') # total number line\n",
    "        f_out.write(content[1]) # title line\n",
    "        for i in np.where(mask==True)[0]:\n",
    "            f_out.write(content[i+2]) \n",
    "        f_out.close()\n",
    "        choice_num_previous=choice_num\n",
    "f_in.close()        \n",
    "\n",
    "# ==========================================================================================\n",
    "print('plot distribution')\n",
    "# lat/lon bounds and central lat/lon\n",
    "with open(os.path.join(asc_dir, asc_files[0]), 'r') as f:\n",
    "    content = f.readlines()\n",
    "    for line in content:\n",
    "        line = line.strip()        \n",
    "        if line:\n",
    "            if ('ncols' in line):\n",
    "                ncols = int(line.split()[1])\n",
    "                nx = ncols\n",
    "            elif ('nrows' in line):\n",
    "                nrows = int(line.split()[1])\n",
    "                ny = nrows\n",
    "            elif ('xllcorner' in line):\n",
    "                xllcorner = float(line.split()[1])\n",
    "            elif ('yllcorner' in line):\n",
    "                yllcorner = float(line.split()[1])\n",
    "            elif ('cellsize' in line):\n",
    "                cellsize = float(line.split()[1])\n",
    "\n",
    "p = Proj(proj='utm',zone=10,ellps='WGS84', preserve_units=False)\n",
    "start_lon, start_lat = p(xllcorner, yllcorner, inverse=True)\n",
    "end_lon, end_lat = p(xllcorner+cellsize*nx, yllcorner+cellsize*ny, inverse=True)\n",
    "\n",
    "lat_0=0.5*(start_lat+end_lat)\n",
    "lon_0=0.5*(start_lon+end_lon)\n",
    "\n",
    "# plot\n",
    "stnlist_files = [f for f in os.listdir(os.path.join(root_dir, outfolder)) if ofile_name_base in f]\n",
    "stnlist_files = sorted(stnlist_files)\n",
    "data = np.loadtxt(os.path.join(root_dir,outfolder,stnlist_files[-1]), skiprows=1, delimiter=',', dtype='str')\n",
    "total_stn_num = len(data)\n",
    "\n",
    "nrow = 2 #1\n",
    "ncol = 3 #len(stnlist_files)\n",
    "fig, ax = plt.subplots(nrow, ncol)\n",
    "fig.set_figwidth(3.5*ncol) \n",
    "fig.set_figheight(4*nrow)\n",
    "\n",
    "for i in range(nrow):\n",
    "    for j in range(ncol):\n",
    "\n",
    "        k = i*ncol+j            \n",
    "        if k<len(stnlist_files):  \n",
    "\n",
    "            # read sampled stnlist.txt\n",
    "            stnlist_file = os.path.join(root_dir, outfolder, stnlist_files[k])\n",
    "            data = np.loadtxt(stnlist_file, skiprows=1, delimiter=',', dtype='str') #STA_ID[0], LAT[1], LON[2], ELEV[3], SLP_N[4], SLP_E[5], STA_NAME[6]\n",
    "            stn_num = len(data)\n",
    "            stn_lons = [float(data[i][2]) for i in range(stn_num)]\n",
    "            stn_lats = [float(data[i][1]) for i in range(stn_num)]\n",
    "            print(str(stn_num) +' Grids')\n",
    "\n",
    "            m = plot_basemap(llcrnrlon=start_lon,llcrnrlat=start_lat,\n",
    "                             urcrnrlon=end_lon,urcrnrlat=end_lat, ax=ax[i,j],\n",
    "                             nx=nx,ny=ny,lat_0=lat_0,lon_0=lon_0) # plot Basemap                           \n",
    "\n",
    "            x, y = m(stn_lons,stn_lats) # convert the lat/lon values to x/y projections.\n",
    "            m.plot(x, y, 'bs', markersize=2) # plot sampeld grid points\n",
    "\n",
    "            # set title\n",
    "            perctl=round(stn_num/total_stn_num*100,0)\n",
    "            title_str = '('+chr(ord('a') + k) +') ' + str(stn_num)  +' Sampled Grids ('+str('%d' %(perctl))+'%)'\n",
    "            ax[i,j].set_title(title_str, fontsize='small', fontweight='semibold')\n",
    "\n",
    "        else: # blank axis\n",
    "            ax[i,j].axis('off')\n",
    "\n",
    "# save plot\n",
    "fig.tight_layout()\n",
    "ofile = 'sample_grids_dist.png'\n",
    "fig.savefig(os.path.join(root_dir, outfolder, ofile), dpi=dpi_value)\n",
    "plt.close(fig)    \n",
    "\n",
    "print('Done')\n"
   ]
  },
  {
   "cell_type": "code",
   "execution_count": 8,
   "metadata": {},
   "outputs": [
    {
     "data": {
      "text/plain": [
       "(1, 2, 3, 4)"
      ]
     },
     "execution_count": 8,
     "metadata": {},
     "output_type": "execute_result"
    }
   ],
   "source": [
    "index_intervals[0],index_intervals[1],index_intervals[2],index_intervals[3]"
   ]
  },
  {
   "cell_type": "code",
   "execution_count": 11,
   "metadata": {},
   "outputs": [
    {
     "data": {
      "text/plain": [
       "range(1, 7)"
      ]
     },
     "execution_count": 11,
     "metadata": {},
     "output_type": "execute_result"
    },
    {
     "data": {
      "image/png": "[encoded data removed]",
      "text/plain": [
       "<Figure size 864x648 with 6 Axes>"
      ]
     },
     "metadata": {
      "needs_background": "light"
     },
     "output_type": "display_data"
    }
   ],
   "source": [
    "index_intervals[:]"
   ]
  },
  {
   "cell_type": "code",
   "execution_count": 7,
   "metadata": {},
   "outputs": [
    {
     "data": {
      "text/plain": [
       "range(1, 7)"
      ]
     },
     "execution_count": 7,
     "metadata": {},
     "output_type": "execute_result"
    }
   ],
   "source": [
    "range(1,round(min(ny,nx)*0.3)+1)"
   ]
  },
  {
   "cell_type": "code",
   "execution_count": null,
   "metadata": {},
   "outputs": [],
   "source": []
  }
 ],
 "metadata": {
  "kernelspec": {
   "display_name": "conda_hongli",
   "language": "python",
   "name": "conda_hongli"
  },
  "language_info": {
   "codemirror_mode": {
    "name": "ipython",
    "version": 3
   },
   "file_extension": ".py",
   "mimetype": "text/x-python",
   "name": "python",
   "nbconvert_exporter": "python",
   "pygments_lexer": "ipython3",
   "version": "3.8.3"
  }
 },
 "nbformat": 4,
 "nbformat_minor": 4
}
